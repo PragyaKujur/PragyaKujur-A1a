{
 "cells": [
  {
   "cell_type": "code",
   "execution_count": 2,
   "id": "a923dc3a-5991-41b5-9c0e-dd4722689682",
   "metadata": {},
   "outputs": [],
   "source": [
    "import os, pandas as pd, numpy as np"
   ]
  },
  {
   "cell_type": "code",
   "execution_count": 4,
   "id": "b382bec1-ab31-485b-9f26-d889e3387203",
   "metadata": {},
   "outputs": [],
   "source": [
    "os.chdir(\"C:\\\\Users\\\\Home\\\\Downloads\")"
   ]
  },
  {
   "cell_type": "code",
   "execution_count": 6,
   "id": "be0c976d-df11-40cb-a4be-07f1c3bc65d5",
   "metadata": {},
   "outputs": [],
   "source": [
    "df=pd.read_csv(\"NSSO68.csv\",encoding=\"Latin-1\", low_memory=False)"
   ]
  },
  {
   "cell_type": "code",
   "execution_count": 7,
   "id": "4390dec1-cf71-4e84-8b5c-f18fb3137081",
   "metadata": {},
   "outputs": [
    {
     "data": {
      "text/html": [
       "<div>\n",
       "<style scoped>\n",
       "    .dataframe tbody tr th:only-of-type {\n",
       "        vertical-align: middle;\n",
       "    }\n",
       "\n",
       "    .dataframe tbody tr th {\n",
       "        vertical-align: top;\n",
       "    }\n",
       "\n",
       "    .dataframe thead th {\n",
       "        text-align: right;\n",
       "    }\n",
       "</style>\n",
       "<table border=\"1\" class=\"dataframe\">\n",
       "  <thead>\n",
       "    <tr style=\"text-align: right;\">\n",
       "      <th></th>\n",
       "      <th>slno</th>\n",
       "      <th>grp</th>\n",
       "      <th>Round_Centre</th>\n",
       "      <th>FSU_number</th>\n",
       "      <th>Round</th>\n",
       "      <th>Schedule_Number</th>\n",
       "      <th>Sample</th>\n",
       "      <th>Sector</th>\n",
       "      <th>state</th>\n",
       "      <th>State_Region</th>\n",
       "      <th>...</th>\n",
       "      <th>pickle_v</th>\n",
       "      <th>sauce_jam_v</th>\n",
       "      <th>Othrprocessed_v</th>\n",
       "      <th>Beveragestotal_v</th>\n",
       "      <th>foodtotal_v</th>\n",
       "      <th>foodtotal_q</th>\n",
       "      <th>state_1</th>\n",
       "      <th>Region</th>\n",
       "      <th>fruits_df_tt_v</th>\n",
       "      <th>fv_tot</th>\n",
       "    </tr>\n",
       "  </thead>\n",
       "  <tbody>\n",
       "    <tr>\n",
       "      <th>0</th>\n",
       "      <td>1</td>\n",
       "      <td>4.10E+31</td>\n",
       "      <td>1</td>\n",
       "      <td>41000</td>\n",
       "      <td>68</td>\n",
       "      <td>10</td>\n",
       "      <td>1</td>\n",
       "      <td>2</td>\n",
       "      <td>24</td>\n",
       "      <td>242</td>\n",
       "      <td>...</td>\n",
       "      <td>0.0</td>\n",
       "      <td>0.0</td>\n",
       "      <td>0.0</td>\n",
       "      <td>0.000000</td>\n",
       "      <td>1141.492400</td>\n",
       "      <td>30.942394</td>\n",
       "      <td>GUJ</td>\n",
       "      <td>2</td>\n",
       "      <td>12.000000</td>\n",
       "      <td>154.18</td>\n",
       "    </tr>\n",
       "    <tr>\n",
       "      <th>1</th>\n",
       "      <td>2</td>\n",
       "      <td>4.10E+31</td>\n",
       "      <td>1</td>\n",
       "      <td>41000</td>\n",
       "      <td>68</td>\n",
       "      <td>10</td>\n",
       "      <td>1</td>\n",
       "      <td>2</td>\n",
       "      <td>24</td>\n",
       "      <td>242</td>\n",
       "      <td>...</td>\n",
       "      <td>0.0</td>\n",
       "      <td>0.0</td>\n",
       "      <td>0.0</td>\n",
       "      <td>17.500000</td>\n",
       "      <td>1244.553500</td>\n",
       "      <td>29.286153</td>\n",
       "      <td>GUJ</td>\n",
       "      <td>2</td>\n",
       "      <td>333.000000</td>\n",
       "      <td>484.95</td>\n",
       "    </tr>\n",
       "    <tr>\n",
       "      <th>2</th>\n",
       "      <td>3</td>\n",
       "      <td>4.10E+31</td>\n",
       "      <td>1</td>\n",
       "      <td>41000</td>\n",
       "      <td>68</td>\n",
       "      <td>10</td>\n",
       "      <td>1</td>\n",
       "      <td>2</td>\n",
       "      <td>24</td>\n",
       "      <td>242</td>\n",
       "      <td>...</td>\n",
       "      <td>0.0</td>\n",
       "      <td>0.0</td>\n",
       "      <td>0.0</td>\n",
       "      <td>0.000000</td>\n",
       "      <td>1050.315400</td>\n",
       "      <td>31.527046</td>\n",
       "      <td>GUJ</td>\n",
       "      <td>2</td>\n",
       "      <td>35.000000</td>\n",
       "      <td>214.84</td>\n",
       "    </tr>\n",
       "    <tr>\n",
       "      <th>3</th>\n",
       "      <td>4</td>\n",
       "      <td>4.10E+31</td>\n",
       "      <td>1</td>\n",
       "      <td>41000</td>\n",
       "      <td>68</td>\n",
       "      <td>10</td>\n",
       "      <td>1</td>\n",
       "      <td>2</td>\n",
       "      <td>24</td>\n",
       "      <td>242</td>\n",
       "      <td>...</td>\n",
       "      <td>0.0</td>\n",
       "      <td>0.0</td>\n",
       "      <td>0.0</td>\n",
       "      <td>33.333333</td>\n",
       "      <td>1142.591667</td>\n",
       "      <td>27.834607</td>\n",
       "      <td>GUJ</td>\n",
       "      <td>2</td>\n",
       "      <td>168.333333</td>\n",
       "      <td>302.30</td>\n",
       "    </tr>\n",
       "    <tr>\n",
       "      <th>4</th>\n",
       "      <td>5</td>\n",
       "      <td>4.10E+31</td>\n",
       "      <td>1</td>\n",
       "      <td>41000</td>\n",
       "      <td>68</td>\n",
       "      <td>10</td>\n",
       "      <td>1</td>\n",
       "      <td>2</td>\n",
       "      <td>24</td>\n",
       "      <td>242</td>\n",
       "      <td>...</td>\n",
       "      <td>0.0</td>\n",
       "      <td>0.0</td>\n",
       "      <td>0.0</td>\n",
       "      <td>75.000000</td>\n",
       "      <td>945.249500</td>\n",
       "      <td>27.600713</td>\n",
       "      <td>GUJ</td>\n",
       "      <td>2</td>\n",
       "      <td>15.000000</td>\n",
       "      <td>148.00</td>\n",
       "    </tr>\n",
       "  </tbody>\n",
       "</table>\n",
       "<p>5 rows × 384 columns</p>\n",
       "</div>"
      ],
      "text/plain": [
       "   slno       grp  Round_Centre  FSU_number  Round  Schedule_Number  Sample  \\\n",
       "0     1  4.10E+31             1       41000     68               10       1   \n",
       "1     2  4.10E+31             1       41000     68               10       1   \n",
       "2     3  4.10E+31             1       41000     68               10       1   \n",
       "3     4  4.10E+31             1       41000     68               10       1   \n",
       "4     5  4.10E+31             1       41000     68               10       1   \n",
       "\n",
       "   Sector  state  State_Region  ...  pickle_v  sauce_jam_v  Othrprocessed_v  \\\n",
       "0       2     24           242  ...       0.0          0.0              0.0   \n",
       "1       2     24           242  ...       0.0          0.0              0.0   \n",
       "2       2     24           242  ...       0.0          0.0              0.0   \n",
       "3       2     24           242  ...       0.0          0.0              0.0   \n",
       "4       2     24           242  ...       0.0          0.0              0.0   \n",
       "\n",
       "   Beveragestotal_v  foodtotal_v  foodtotal_q  state_1  Region  \\\n",
       "0          0.000000  1141.492400    30.942394      GUJ       2   \n",
       "1         17.500000  1244.553500    29.286153      GUJ       2   \n",
       "2          0.000000  1050.315400    31.527046      GUJ       2   \n",
       "3         33.333333  1142.591667    27.834607      GUJ       2   \n",
       "4         75.000000   945.249500    27.600713      GUJ       2   \n",
       "\n",
       "   fruits_df_tt_v  fv_tot  \n",
       "0       12.000000  154.18  \n",
       "1      333.000000  484.95  \n",
       "2       35.000000  214.84  \n",
       "3      168.333333  302.30  \n",
       "4       15.000000  148.00  \n",
       "\n",
       "[5 rows x 384 columns]"
      ]
     },
     "execution_count": 7,
     "metadata": {},
     "output_type": "execute_result"
    }
   ],
   "source": [
    "df.head()"
   ]
  },
  {
   "cell_type": "code",
   "execution_count": 10,
   "id": "0e8fdd77-cee7-4c08-b7cf-cba0898a37f4",
   "metadata": {},
   "outputs": [],
   "source": [
    "NAG = df[df['state']==13]"
   ]
  },
  {
   "cell_type": "code",
   "execution_count": 12,
   "id": "aadfe879-7954-4398-b4dd-8080f6a56798",
   "metadata": {},
   "outputs": [
    {
     "data": {
      "text/plain": [
       "soyabean_q        1024\n",
       "soyabean_v        1024\n",
       "Meals_School      1011\n",
       "Meals_Employer    1006\n",
       "Meals_Others       949\n",
       "                  ... \n",
       "carrot_q             0\n",
       "radish_q             0\n",
       "brinjal_q            0\n",
       "tamato_q             0\n",
       "fv_tot               0\n",
       "Length: 384, dtype: int64"
      ]
     },
     "execution_count": 12,
     "metadata": {},
     "output_type": "execute_result"
    }
   ],
   "source": [
    "NAG.isnull().sum().sort_values(ascending = False)"
   ]
  },
  {
   "cell_type": "code",
   "execution_count": 14,
   "id": "42986e0f-84f4-47ff-a90d-97594f6eec5c",
   "metadata": {},
   "outputs": [
    {
     "data": {
      "text/plain": [
       "Index(['slno', 'grp', 'Round_Centre', 'FSU_number', 'Round', 'Schedule_Number',\n",
       "       'Sample', 'Sector', 'state', 'State_Region',\n",
       "       ...\n",
       "       'pickle_v', 'sauce_jam_v', 'Othrprocessed_v', 'Beveragestotal_v',\n",
       "       'foodtotal_v', 'foodtotal_q', 'state_1', 'Region', 'fruits_df_tt_v',\n",
       "       'fv_tot'],\n",
       "      dtype='object', length=384)"
      ]
     },
     "execution_count": 14,
     "metadata": {},
     "output_type": "execute_result"
    }
   ],
   "source": [
    "df.columns"
   ]
  },
  {
   "cell_type": "code",
   "execution_count": 16,
   "id": "699238a2-170c-4979-b2b1-e1d946dca488",
   "metadata": {},
   "outputs": [],
   "source": [
    "NAG_new = NAG[['state_1', 'District', 'Sector','Region','State_Region','ricetotal_q','wheattotal_q','moong_q','Milktotal_q','chicken_q','bread_q','foodtotal_q','Beveragestotal_v','Meals_At_Home']]"
   ]
  },
  {
   "cell_type": "code",
   "execution_count": 18,
   "id": "9f7b87c1-2b44-4ad6-afaa-43c4556d8c0a",
   "metadata": {},
   "outputs": [
    {
     "data": {
      "text/plain": [
       "Meals_At_Home       1\n",
       "state_1             0\n",
       "District            0\n",
       "Sector              0\n",
       "Region              0\n",
       "State_Region        0\n",
       "ricetotal_q         0\n",
       "wheattotal_q        0\n",
       "moong_q             0\n",
       "Milktotal_q         0\n",
       "chicken_q           0\n",
       "bread_q             0\n",
       "foodtotal_q         0\n",
       "Beveragestotal_v    0\n",
       "dtype: int64"
      ]
     },
     "execution_count": 18,
     "metadata": {},
     "output_type": "execute_result"
    }
   ],
   "source": [
    "NAG_new.isnull().sum().sort_values(ascending = False)"
   ]
  },
  {
   "cell_type": "code",
   "execution_count": 20,
   "id": "bec9da92-966a-4563-9a8a-edddcc7535f9",
   "metadata": {},
   "outputs": [],
   "source": [
    "NAG_clean = NAG_new.copy()"
   ]
  },
  {
   "cell_type": "code",
   "execution_count": 22,
   "id": "39dd5733-8cbd-4505-9211-c04eeadcb454",
   "metadata": {},
   "outputs": [],
   "source": [
    "NAG_clean.loc[:, 'Meals_At_Home'] = NAG_clean['Meals_At_Home'].fillna(NAG_new['Meals_At_Home'].mean())"
   ]
  },
  {
   "cell_type": "code",
   "execution_count": 24,
   "id": "85a03c6d-d84f-4442-a231-67bfabefb01a",
   "metadata": {},
   "outputs": [
    {
     "data": {
      "text/plain": [
       "state_1             False\n",
       "District            False\n",
       "Sector              False\n",
       "Region              False\n",
       "State_Region        False\n",
       "ricetotal_q         False\n",
       "wheattotal_q        False\n",
       "moong_q             False\n",
       "Milktotal_q         False\n",
       "chicken_q           False\n",
       "bread_q             False\n",
       "foodtotal_q         False\n",
       "Beveragestotal_v    False\n",
       "Meals_At_Home       False\n",
       "dtype: bool"
      ]
     },
     "execution_count": 24,
     "metadata": {},
     "output_type": "execute_result"
    }
   ],
   "source": [
    "NAG_clean.isnull().any()"
   ]
  },
  {
   "cell_type": "code",
   "execution_count": 26,
   "id": "684e549e-f2be-403a-821c-050a064d0f8d",
   "metadata": {},
   "outputs": [
    {
     "data": {
      "image/png": "[encoded data removed]",
      "text/plain": [
       "<Figure size 800x600 with 1 Axes>"
      ]
     },
     "metadata": {},
     "output_type": "display_data"
    }
   ],
   "source": [
    "import matplotlib.pyplot as plt\n",
    "plt.figure(figsize=(8, 6))\n",
    "plt.boxplot(NAG_clean['ricetotal_q'])\n",
    "plt.xlabel('ricetotal_q')\n",
    "plt.ylabel('Values')\n",
    "plt.title('Boxplot of ricetotal_q')\n",
    "plt.show()"
   ]
  },
  {
   "cell_type": "code",
   "execution_count": 28,
   "id": "e980b31e-c6b8-4b56-93a2-0a1919a6ae63",
   "metadata": {},
   "outputs": [],
   "source": [
    "rice1 = NAG_clean['ricetotal_q'].quantile(0.25)\n",
    "rice2 = NAG_clean['ricetotal_q'].quantile(0.75)\n",
    "iqr_rice = rice2-rice1\n",
    "up_limit = rice2 + 1.5*iqr_rice\n",
    "low_limit = rice1 - 1.5*iqr_rice"
   ]
  },
  {
   "cell_type": "code",
   "execution_count": 30,
   "id": "c27155dc-e372-4b1f-a0d9-5421b5250485",
   "metadata": {},
   "outputs": [],
   "source": [
    "NAG_clean=NAG_new[(NAG_new['ricetotal_q']<=up_limit)&(NAG_new['ricetotal_q']>=low_limit)]"
   ]
  },
  {
   "cell_type": "code",
   "execution_count": 32,
   "id": "de5515ed-136a-4447-9733-2dfb8e7f72ff",
   "metadata": {},
   "outputs": [
    {
     "data": {
      "text/plain": [
       "{'whiskers': [<matplotlib.lines.Line2D at 0x2160cf1b590>,\n",
       "  <matplotlib.lines.Line2D at 0x2160cf19510>],\n",
       " 'caps': [<matplotlib.lines.Line2D at 0x2160cf1be50>,\n",
       "  <matplotlib.lines.Line2D at 0x2160cf1b210>],\n",
       " 'boxes': [<matplotlib.lines.Line2D at 0x2160cf6b690>],\n",
       " 'medians': [<matplotlib.lines.Line2D at 0x2160cf4bbd0>],\n",
       " 'fliers': [<matplotlib.lines.Line2D at 0x2160cf4a890>],\n",
       " 'means': []}"
      ]
     },
     "execution_count": 32,
     "metadata": {},
     "output_type": "execute_result"
    },
    {
     "data": {
      "image/png": "[encoded data removed]",
      "text/plain": [
       "<Figure size 640x480 with 1 Axes>"
      ]
     },
     "metadata": {},
     "output_type": "display_data"
    }
   ],
   "source": [
    "plt.boxplot(NAG_clean['ricetotal_q'])"
   ]
  },
  {
   "cell_type": "code",
   "execution_count": 34,
   "id": "93d7f6f3-faad-4218-a97f-ddbbb3bf0f6b",
   "metadata": {},
   "outputs": [
    {
     "data": {
      "text/plain": [
       "array([ 8,  3,  4,  7,  2,  6,  5,  1,  9, 11, 10], dtype=int64)"
      ]
     },
     "execution_count": 34,
     "metadata": {},
     "output_type": "execute_result"
    }
   ],
   "source": [
    "NAG_clean['District'].unique()"
   ]
  },
  {
   "cell_type": "code",
   "execution_count": 36,
   "id": "3ad1c697-50eb-4e8a-b886-331e40e3cd13",
   "metadata": {},
   "outputs": [],
   "source": [
    "NAG_clean.loc[:,'Sector'] = NAG_clean['Sector'].replace([1, 2], ['URBAN', 'RURAL'])"
   ]
  },
  {
   "cell_type": "code",
   "execution_count": 38,
   "id": "b68e5e38-9872-4847-85da-bdca870e434a",
   "metadata": {},
   "outputs": [
    {
     "data": {
      "text/plain": [
       "Index(['state_1', 'District', 'Sector', 'Region', 'State_Region',\n",
       "       'ricetotal_q', 'wheattotal_q', 'moong_q', 'Milktotal_q', 'chicken_q',\n",
       "       'bread_q', 'foodtotal_q', 'Beveragestotal_v', 'Meals_At_Home'],\n",
       "      dtype='object')"
      ]
     },
     "execution_count": 38,
     "metadata": {},
     "output_type": "execute_result"
    }
   ],
   "source": [
    "NAG_clean.columns"
   ]
  },
  {
   "cell_type": "code",
   "execution_count": 40,
   "id": "7942cf9c-1faa-474b-bd7d-0b7142cc077f",
   "metadata": {},
   "outputs": [
    {
     "name": "stderr",
     "output_type": "stream",
     "text": [
      "C:\\Users\\Home\\AppData\\Local\\Temp\\ipykernel_24068\\2651948859.py:1: SettingWithCopyWarning: \n",
      "A value is trying to be set on a copy of a slice from a DataFrame.\n",
      "Try using .loc[row_indexer,col_indexer] = value instead\n",
      "\n",
      "See the caveats in the documentation: https://pandas.pydata.org/pandas-docs/stable/user_guide/indexing.html#returning-a-view-versus-a-copy\n",
      "  NAG_clean.loc[:, 'total_consumption'] = NAG_clean[['ricetotal_q', 'wheattotal_q', 'moong_q', 'Milktotal_q', 'chicken_q', 'bread_q', 'foodtotal_q', 'Beveragestotal_v']].sum(axis=1)\n"
     ]
    }
   ],
   "source": [
    "NAG_clean.loc[:, 'total_consumption'] = NAG_clean[['ricetotal_q', 'wheattotal_q', 'moong_q', 'Milktotal_q', 'chicken_q', 'bread_q', 'foodtotal_q', 'Beveragestotal_v']].sum(axis=1)"
   ]
  },
  {
   "cell_type": "code",
   "execution_count": 42,
   "id": "b96ad3cd-b24c-4d4b-93f2-57a88ccd983d",
   "metadata": {},
   "outputs": [],
   "source": [
    "NAG_clean.loc[:, 'total_consumption'] = NAG_clean[['ricetotal_q', 'wheattotal_q', 'moong_q', 'Milktotal_q', 'chicken_q', 'bread_q', 'foodtotal_q', 'Beveragestotal_v']].sum(axis=1)"
   ]
  },
  {
   "cell_type": "code",
   "execution_count": 44,
   "id": "9bb193ad-436d-4f6a-abd4-fa4683898077",
   "metadata": {},
   "outputs": [
    {
     "data": {
      "text/html": [
       "<div>\n",
       "<style scoped>\n",
       "    .dataframe tbody tr th:only-of-type {\n",
       "        vertical-align: middle;\n",
       "    }\n",
       "\n",
       "    .dataframe tbody tr th {\n",
       "        vertical-align: top;\n",
       "    }\n",
       "\n",
       "    .dataframe thead th {\n",
       "        text-align: right;\n",
       "    }\n",
       "</style>\n",
       "<table border=\"1\" class=\"dataframe\">\n",
       "  <thead>\n",
       "    <tr style=\"text-align: right;\">\n",
       "      <th></th>\n",
       "      <th>state_1</th>\n",
       "      <th>District</th>\n",
       "      <th>Sector</th>\n",
       "      <th>Region</th>\n",
       "      <th>State_Region</th>\n",
       "      <th>ricetotal_q</th>\n",
       "      <th>wheattotal_q</th>\n",
       "      <th>moong_q</th>\n",
       "      <th>Milktotal_q</th>\n",
       "      <th>chicken_q</th>\n",
       "      <th>bread_q</th>\n",
       "      <th>foodtotal_q</th>\n",
       "      <th>Beveragestotal_v</th>\n",
       "      <th>Meals_At_Home</th>\n",
       "      <th>total_consumption</th>\n",
       "    </tr>\n",
       "  </thead>\n",
       "  <tbody>\n",
       "    <tr>\n",
       "      <th>19822</th>\n",
       "      <td>NAG</td>\n",
       "      <td>8</td>\n",
       "      <td>RURAL</td>\n",
       "      <td>1</td>\n",
       "      <td>131</td>\n",
       "      <td>14.5</td>\n",
       "      <td>0.0</td>\n",
       "      <td>0.000</td>\n",
       "      <td>0</td>\n",
       "      <td>0.000</td>\n",
       "      <td>0.00</td>\n",
       "      <td>24.881525</td>\n",
       "      <td>72.500000</td>\n",
       "      <td>60.0</td>\n",
       "      <td>111.881525</td>\n",
       "    </tr>\n",
       "    <tr>\n",
       "      <th>19823</th>\n",
       "      <td>NAG</td>\n",
       "      <td>8</td>\n",
       "      <td>RURAL</td>\n",
       "      <td>1</td>\n",
       "      <td>131</td>\n",
       "      <td>14.0</td>\n",
       "      <td>0.0</td>\n",
       "      <td>0.125</td>\n",
       "      <td>0</td>\n",
       "      <td>0.875</td>\n",
       "      <td>0.00</td>\n",
       "      <td>20.942970</td>\n",
       "      <td>37.500000</td>\n",
       "      <td>56.0</td>\n",
       "      <td>73.442970</td>\n",
       "    </tr>\n",
       "    <tr>\n",
       "      <th>19824</th>\n",
       "      <td>NAG</td>\n",
       "      <td>8</td>\n",
       "      <td>RURAL</td>\n",
       "      <td>1</td>\n",
       "      <td>131</td>\n",
       "      <td>14.0</td>\n",
       "      <td>0.0</td>\n",
       "      <td>0.125</td>\n",
       "      <td>0</td>\n",
       "      <td>0.000</td>\n",
       "      <td>0.30</td>\n",
       "      <td>20.250361</td>\n",
       "      <td>22.500000</td>\n",
       "      <td>60.0</td>\n",
       "      <td>57.175361</td>\n",
       "    </tr>\n",
       "    <tr>\n",
       "      <th>19825</th>\n",
       "      <td>NAG</td>\n",
       "      <td>8</td>\n",
       "      <td>RURAL</td>\n",
       "      <td>1</td>\n",
       "      <td>131</td>\n",
       "      <td>13.0</td>\n",
       "      <td>0.0</td>\n",
       "      <td>0.000</td>\n",
       "      <td>0</td>\n",
       "      <td>0.250</td>\n",
       "      <td>0.00</td>\n",
       "      <td>16.550338</td>\n",
       "      <td>18.333333</td>\n",
       "      <td>60.0</td>\n",
       "      <td>48.133671</td>\n",
       "    </tr>\n",
       "    <tr>\n",
       "      <th>19826</th>\n",
       "      <td>NAG</td>\n",
       "      <td>8</td>\n",
       "      <td>RURAL</td>\n",
       "      <td>1</td>\n",
       "      <td>131</td>\n",
       "      <td>14.4</td>\n",
       "      <td>0.0</td>\n",
       "      <td>0.000</td>\n",
       "      <td>0</td>\n",
       "      <td>0.000</td>\n",
       "      <td>0.08</td>\n",
       "      <td>23.637370</td>\n",
       "      <td>46.000000</td>\n",
       "      <td>60.0</td>\n",
       "      <td>84.117370</td>\n",
       "    </tr>\n",
       "  </tbody>\n",
       "</table>\n",
       "</div>"
      ],
      "text/plain": [
       "      state_1  District Sector  Region  State_Region  ricetotal_q  \\\n",
       "19822     NAG         8  RURAL       1           131         14.5   \n",
       "19823     NAG         8  RURAL       1           131         14.0   \n",
       "19824     NAG         8  RURAL       1           131         14.0   \n",
       "19825     NAG         8  RURAL       1           131         13.0   \n",
       "19826     NAG         8  RURAL       1           131         14.4   \n",
       "\n",
       "       wheattotal_q  moong_q  Milktotal_q  chicken_q  bread_q  foodtotal_q  \\\n",
       "19822           0.0    0.000            0      0.000     0.00    24.881525   \n",
       "19823           0.0    0.125            0      0.875     0.00    20.942970   \n",
       "19824           0.0    0.125            0      0.000     0.30    20.250361   \n",
       "19825           0.0    0.000            0      0.250     0.00    16.550338   \n",
       "19826           0.0    0.000            0      0.000     0.08    23.637370   \n",
       "\n",
       "       Beveragestotal_v  Meals_At_Home  total_consumption  \n",
       "19822         72.500000           60.0         111.881525  \n",
       "19823         37.500000           56.0          73.442970  \n",
       "19824         22.500000           60.0          57.175361  \n",
       "19825         18.333333           60.0          48.133671  \n",
       "19826         46.000000           60.0          84.117370  "
      ]
     },
     "execution_count": 44,
     "metadata": {},
     "output_type": "execute_result"
    }
   ],
   "source": [
    "NAG_clean.head()"
   ]
  },
  {
   "cell_type": "code",
   "execution_count": 46,
   "id": "15561418-3989-4d8c-ab5e-d147cd4bc4c6",
   "metadata": {},
   "outputs": [
    {
     "data": {
      "text/html": [
       "<div>\n",
       "<style scoped>\n",
       "    .dataframe tbody tr th:only-of-type {\n",
       "        vertical-align: middle;\n",
       "    }\n",
       "\n",
       "    .dataframe tbody tr th {\n",
       "        vertical-align: top;\n",
       "    }\n",
       "\n",
       "    .dataframe thead tr th {\n",
       "        text-align: left;\n",
       "    }\n",
       "\n",
       "    .dataframe thead tr:last-of-type th {\n",
       "        text-align: right;\n",
       "    }\n",
       "</style>\n",
       "<table border=\"1\" class=\"dataframe\">\n",
       "  <thead>\n",
       "    <tr>\n",
       "      <th></th>\n",
       "      <th colspan=\"4\" halign=\"left\">total_consumption</th>\n",
       "    </tr>\n",
       "    <tr>\n",
       "      <th></th>\n",
       "      <th>std</th>\n",
       "      <th>mean</th>\n",
       "      <th>max</th>\n",
       "      <th>min</th>\n",
       "    </tr>\n",
       "    <tr>\n",
       "      <th>Region</th>\n",
       "      <th></th>\n",
       "      <th></th>\n",
       "      <th></th>\n",
       "      <th></th>\n",
       "    </tr>\n",
       "  </thead>\n",
       "  <tbody>\n",
       "    <tr>\n",
       "      <th>1</th>\n",
       "      <td>27.678464</td>\n",
       "      <td>64.956971</td>\n",
       "      <td>297.7511</td>\n",
       "      <td>23.812569</td>\n",
       "    </tr>\n",
       "  </tbody>\n",
       "</table>\n",
       "</div>"
      ],
      "text/plain": [
       "       total_consumption                                \n",
       "                     std       mean       max        min\n",
       "Region                                                  \n",
       "1              27.678464  64.956971  297.7511  23.812569"
      ]
     },
     "execution_count": 46,
     "metadata": {},
     "output_type": "execute_result"
    }
   ],
   "source": [
    "NAG_clean.groupby('Region').agg({'total_consumption':['std','mean','max','min']})"
   ]
  },
  {
   "cell_type": "code",
   "execution_count": 62,
   "id": "35581085-bc41-4918-b6e1-b63221ebe5c4",
   "metadata": {},
   "outputs": [
    {
     "data": {
      "text/html": [
       "<div>\n",
       "<style scoped>\n",
       "    .dataframe tbody tr th:only-of-type {\n",
       "        vertical-align: middle;\n",
       "    }\n",
       "\n",
       "    .dataframe tbody tr th {\n",
       "        vertical-align: top;\n",
       "    }\n",
       "\n",
       "    .dataframe thead tr th {\n",
       "        text-align: left;\n",
       "    }\n",
       "\n",
       "    .dataframe thead tr:last-of-type th {\n",
       "        text-align: right;\n",
       "    }\n",
       "</style>\n",
       "<table border=\"1\" class=\"dataframe\">\n",
       "  <thead>\n",
       "    <tr>\n",
       "      <th></th>\n",
       "      <th colspan=\"4\" halign=\"left\">total_consumption</th>\n",
       "    </tr>\n",
       "    <tr>\n",
       "      <th></th>\n",
       "      <th>std</th>\n",
       "      <th>mean</th>\n",
       "      <th>max</th>\n",
       "      <th>min</th>\n",
       "    </tr>\n",
       "    <tr>\n",
       "      <th>District</th>\n",
       "      <th></th>\n",
       "      <th></th>\n",
       "      <th></th>\n",
       "      <th></th>\n",
       "    </tr>\n",
       "  </thead>\n",
       "  <tbody>\n",
       "    <tr>\n",
       "      <th>1</th>\n",
       "      <td>28.348301</td>\n",
       "      <td>66.333557</td>\n",
       "      <td>182.150175</td>\n",
       "      <td>28.400240</td>\n",
       "    </tr>\n",
       "    <tr>\n",
       "      <th>2</th>\n",
       "      <td>23.368328</td>\n",
       "      <td>56.768621</td>\n",
       "      <td>142.013688</td>\n",
       "      <td>31.007257</td>\n",
       "    </tr>\n",
       "    <tr>\n",
       "      <th>3</th>\n",
       "      <td>21.769475</td>\n",
       "      <td>57.935552</td>\n",
       "      <td>166.825803</td>\n",
       "      <td>27.900480</td>\n",
       "    </tr>\n",
       "    <tr>\n",
       "      <th>4</th>\n",
       "      <td>19.112967</td>\n",
       "      <td>61.343733</td>\n",
       "      <td>123.614750</td>\n",
       "      <td>26.933417</td>\n",
       "    </tr>\n",
       "    <tr>\n",
       "      <th>5</th>\n",
       "      <td>25.284798</td>\n",
       "      <td>61.125498</td>\n",
       "      <td>136.208767</td>\n",
       "      <td>26.425189</td>\n",
       "    </tr>\n",
       "    <tr>\n",
       "      <th>6</th>\n",
       "      <td>25.908368</td>\n",
       "      <td>63.786629</td>\n",
       "      <td>157.828846</td>\n",
       "      <td>26.850206</td>\n",
       "    </tr>\n",
       "    <tr>\n",
       "      <th>7</th>\n",
       "      <td>38.055926</td>\n",
       "      <td>73.969822</td>\n",
       "      <td>297.751100</td>\n",
       "      <td>25.700160</td>\n",
       "    </tr>\n",
       "    <tr>\n",
       "      <th>8</th>\n",
       "      <td>30.255402</td>\n",
       "      <td>71.911943</td>\n",
       "      <td>184.855285</td>\n",
       "      <td>33.808413</td>\n",
       "    </tr>\n",
       "    <tr>\n",
       "      <th>9</th>\n",
       "      <td>28.826814</td>\n",
       "      <td>66.931339</td>\n",
       "      <td>167.833583</td>\n",
       "      <td>28.900100</td>\n",
       "    </tr>\n",
       "    <tr>\n",
       "      <th>10</th>\n",
       "      <td>28.731090</td>\n",
       "      <td>70.755272</td>\n",
       "      <td>166.695387</td>\n",
       "      <td>23.812569</td>\n",
       "    </tr>\n",
       "    <tr>\n",
       "      <th>11</th>\n",
       "      <td>21.334216</td>\n",
       "      <td>62.446825</td>\n",
       "      <td>149.313562</td>\n",
       "      <td>24.714596</td>\n",
       "    </tr>\n",
       "  </tbody>\n",
       "</table>\n",
       "</div>"
      ],
      "text/plain": [
       "         total_consumption                                  \n",
       "                       std       mean         max        min\n",
       "District                                                    \n",
       "1                28.348301  66.333557  182.150175  28.400240\n",
       "2                23.368328  56.768621  142.013688  31.007257\n",
       "3                21.769475  57.935552  166.825803  27.900480\n",
       "4                19.112967  61.343733  123.614750  26.933417\n",
       "5                25.284798  61.125498  136.208767  26.425189\n",
       "6                25.908368  63.786629  157.828846  26.850206\n",
       "7                38.055926  73.969822  297.751100  25.700160\n",
       "8                30.255402  71.911943  184.855285  33.808413\n",
       "9                28.826814  66.931339  167.833583  28.900100\n",
       "10               28.731090  70.755272  166.695387  23.812569\n",
       "11               21.334216  62.446825  149.313562  24.714596"
      ]
     },
     "execution_count": 62,
     "metadata": {},
     "output_type": "execute_result"
    }
   ],
   "source": [
    "NAG_clean.groupby('District').agg({'total_consumption':['std','mean','max','min']})"
   ]
  },
  {
   "cell_type": "code",
   "execution_count": 72,
   "id": "fc29a8a2-51b8-4898-a442-5903d24d1de1",
   "metadata": {},
   "outputs": [],
   "source": [
    "total_consumption_by_districtname=NAG_clean.groupby('District')['total_consumption'].sum()"
   ]
  },
  {
   "cell_type": "code",
   "execution_count": 74,
   "id": "868c47f2-cc78-483e-b1a3-3ed8fc7a760d",
   "metadata": {},
   "outputs": [
    {
     "data": {
      "text/plain": [
       "District\n",
       "7    8358.589899\n",
       "3    7184.008487\n",
       "8    6687.810665\n",
       "Name: total_consumption, dtype: float64"
      ]
     },
     "execution_count": 74,
     "metadata": {},
     "output_type": "execute_result"
    }
   ],
   "source": [
    "total_consumption_by_districtname.sort_values(ascending=False).head(3)"
   ]
  },
  {
   "cell_type": "code",
   "execution_count": 80,
   "id": "1a87c6b3-45ac-4c9e-a6d6-b9799ec2121a",
   "metadata": {},
   "outputs": [],
   "source": [
    "NAG_clean.loc[:,\"District\"] = NAG_clean.loc[:,\"District\"].replace({7: \"kohima\", 3: \"Mokukchung\", 8: \"Phek\"})"
   ]
  },
  {
   "cell_type": "code",
   "execution_count": 82,
   "id": "e12fb361-6eb2-410c-8451-6b77c10c4142",
   "metadata": {},
   "outputs": [],
   "source": [
    "total_consumption_by_districtname=NAG_clean.groupby('District')['total_consumption'].sum()"
   ]
  },
  {
   "cell_type": "code",
   "execution_count": 84,
   "id": "81f5a599-1a55-42c6-8cbe-f8f975beab98",
   "metadata": {},
   "outputs": [
    {
     "data": {
      "text/plain": [
       "District\n",
       "kohima        8358.589899\n",
       "Mokukchung    7184.008487\n",
       "Phek          6687.810665\n",
       "Name: total_consumption, dtype: float64"
      ]
     },
     "execution_count": 84,
     "metadata": {},
     "output_type": "execute_result"
    }
   ],
   "source": [
    "total_consumption_by_districtname.sort_values(ascending=False).head(3)"
   ]
  },
  {
   "cell_type": "code",
   "execution_count": 86,
   "id": "cf4d09a1-a9df-4e7c-a75c-9245fc3473ca",
   "metadata": {},
   "outputs": [],
   "source": [
    "from statsmodels.stats import weightstats as stests"
   ]
  },
  {
   "cell_type": "code",
   "execution_count": 90,
   "id": "dcfbe70e-499f-4c9d-9d08-7b3054a08809",
   "metadata": {},
   "outputs": [],
   "source": [
    "rural=NAG_clean[NAG_clean['Sector']==\"RURAL\"]\n",
    "urban=NAG_clean[NAG_clean['Sector']==\"URBAN\"]"
   ]
  },
  {
   "cell_type": "code",
   "execution_count": 92,
   "id": "b18fa8f4-d6c2-4cc5-801d-0c59ca7b3e5f",
   "metadata": {},
   "outputs": [
    {
     "data": {
      "text/html": [
       "<div>\n",
       "<style scoped>\n",
       "    .dataframe tbody tr th:only-of-type {\n",
       "        vertical-align: middle;\n",
       "    }\n",
       "\n",
       "    .dataframe tbody tr th {\n",
       "        vertical-align: top;\n",
       "    }\n",
       "\n",
       "    .dataframe thead th {\n",
       "        text-align: right;\n",
       "    }\n",
       "</style>\n",
       "<table border=\"1\" class=\"dataframe\">\n",
       "  <thead>\n",
       "    <tr style=\"text-align: right;\">\n",
       "      <th></th>\n",
       "      <th>state_1</th>\n",
       "      <th>District</th>\n",
       "      <th>Sector</th>\n",
       "      <th>Region</th>\n",
       "      <th>State_Region</th>\n",
       "      <th>ricetotal_q</th>\n",
       "      <th>wheattotal_q</th>\n",
       "      <th>moong_q</th>\n",
       "      <th>Milktotal_q</th>\n",
       "      <th>chicken_q</th>\n",
       "      <th>bread_q</th>\n",
       "      <th>foodtotal_q</th>\n",
       "      <th>Beveragestotal_v</th>\n",
       "      <th>Meals_At_Home</th>\n",
       "      <th>total_consumption</th>\n",
       "    </tr>\n",
       "  </thead>\n",
       "  <tbody>\n",
       "    <tr>\n",
       "      <th>19822</th>\n",
       "      <td>NAG</td>\n",
       "      <td>Phek</td>\n",
       "      <td>RURAL</td>\n",
       "      <td>1</td>\n",
       "      <td>131</td>\n",
       "      <td>14.5</td>\n",
       "      <td>0.0</td>\n",
       "      <td>0.000</td>\n",
       "      <td>0</td>\n",
       "      <td>0.000</td>\n",
       "      <td>0.00</td>\n",
       "      <td>24.881525</td>\n",
       "      <td>72.500000</td>\n",
       "      <td>60.0</td>\n",
       "      <td>111.881525</td>\n",
       "    </tr>\n",
       "    <tr>\n",
       "      <th>19823</th>\n",
       "      <td>NAG</td>\n",
       "      <td>Phek</td>\n",
       "      <td>RURAL</td>\n",
       "      <td>1</td>\n",
       "      <td>131</td>\n",
       "      <td>14.0</td>\n",
       "      <td>0.0</td>\n",
       "      <td>0.125</td>\n",
       "      <td>0</td>\n",
       "      <td>0.875</td>\n",
       "      <td>0.00</td>\n",
       "      <td>20.942970</td>\n",
       "      <td>37.500000</td>\n",
       "      <td>56.0</td>\n",
       "      <td>73.442970</td>\n",
       "    </tr>\n",
       "    <tr>\n",
       "      <th>19824</th>\n",
       "      <td>NAG</td>\n",
       "      <td>Phek</td>\n",
       "      <td>RURAL</td>\n",
       "      <td>1</td>\n",
       "      <td>131</td>\n",
       "      <td>14.0</td>\n",
       "      <td>0.0</td>\n",
       "      <td>0.125</td>\n",
       "      <td>0</td>\n",
       "      <td>0.000</td>\n",
       "      <td>0.30</td>\n",
       "      <td>20.250361</td>\n",
       "      <td>22.500000</td>\n",
       "      <td>60.0</td>\n",
       "      <td>57.175361</td>\n",
       "    </tr>\n",
       "    <tr>\n",
       "      <th>19825</th>\n",
       "      <td>NAG</td>\n",
       "      <td>Phek</td>\n",
       "      <td>RURAL</td>\n",
       "      <td>1</td>\n",
       "      <td>131</td>\n",
       "      <td>13.0</td>\n",
       "      <td>0.0</td>\n",
       "      <td>0.000</td>\n",
       "      <td>0</td>\n",
       "      <td>0.250</td>\n",
       "      <td>0.00</td>\n",
       "      <td>16.550338</td>\n",
       "      <td>18.333333</td>\n",
       "      <td>60.0</td>\n",
       "      <td>48.133671</td>\n",
       "    </tr>\n",
       "    <tr>\n",
       "      <th>19826</th>\n",
       "      <td>NAG</td>\n",
       "      <td>Phek</td>\n",
       "      <td>RURAL</td>\n",
       "      <td>1</td>\n",
       "      <td>131</td>\n",
       "      <td>14.4</td>\n",
       "      <td>0.0</td>\n",
       "      <td>0.000</td>\n",
       "      <td>0</td>\n",
       "      <td>0.000</td>\n",
       "      <td>0.08</td>\n",
       "      <td>23.637370</td>\n",
       "      <td>46.000000</td>\n",
       "      <td>60.0</td>\n",
       "      <td>84.117370</td>\n",
       "    </tr>\n",
       "  </tbody>\n",
       "</table>\n",
       "</div>"
      ],
      "text/plain": [
       "      state_1 District Sector  Region  State_Region  ricetotal_q  \\\n",
       "19822     NAG     Phek  RURAL       1           131         14.5   \n",
       "19823     NAG     Phek  RURAL       1           131         14.0   \n",
       "19824     NAG     Phek  RURAL       1           131         14.0   \n",
       "19825     NAG     Phek  RURAL       1           131         13.0   \n",
       "19826     NAG     Phek  RURAL       1           131         14.4   \n",
       "\n",
       "       wheattotal_q  moong_q  Milktotal_q  chicken_q  bread_q  foodtotal_q  \\\n",
       "19822           0.0    0.000            0      0.000     0.00    24.881525   \n",
       "19823           0.0    0.125            0      0.875     0.00    20.942970   \n",
       "19824           0.0    0.125            0      0.000     0.30    20.250361   \n",
       "19825           0.0    0.000            0      0.250     0.00    16.550338   \n",
       "19826           0.0    0.000            0      0.000     0.08    23.637370   \n",
       "\n",
       "       Beveragestotal_v  Meals_At_Home  total_consumption  \n",
       "19822         72.500000           60.0         111.881525  \n",
       "19823         37.500000           56.0          73.442970  \n",
       "19824         22.500000           60.0          57.175361  \n",
       "19825         18.333333           60.0          48.133671  \n",
       "19826         46.000000           60.0          84.117370  "
      ]
     },
     "execution_count": 92,
     "metadata": {},
     "output_type": "execute_result"
    }
   ],
   "source": [
    "rural.head()"
   ]
  },
  {
   "cell_type": "code",
   "execution_count": 94,
   "id": "16b0c763-bc5f-4c08-9c4e-582eb71ec3c0",
   "metadata": {},
   "outputs": [
    {
     "data": {
      "text/html": [
       "<div>\n",
       "<style scoped>\n",
       "    .dataframe tbody tr th:only-of-type {\n",
       "        vertical-align: middle;\n",
       "    }\n",
       "\n",
       "    .dataframe tbody tr th {\n",
       "        vertical-align: top;\n",
       "    }\n",
       "\n",
       "    .dataframe thead th {\n",
       "        text-align: right;\n",
       "    }\n",
       "</style>\n",
       "<table border=\"1\" class=\"dataframe\">\n",
       "  <thead>\n",
       "    <tr style=\"text-align: right;\">\n",
       "      <th></th>\n",
       "      <th>state_1</th>\n",
       "      <th>District</th>\n",
       "      <th>Sector</th>\n",
       "      <th>Region</th>\n",
       "      <th>State_Region</th>\n",
       "      <th>ricetotal_q</th>\n",
       "      <th>wheattotal_q</th>\n",
       "      <th>moong_q</th>\n",
       "      <th>Milktotal_q</th>\n",
       "      <th>chicken_q</th>\n",
       "      <th>bread_q</th>\n",
       "      <th>foodtotal_q</th>\n",
       "      <th>Beveragestotal_v</th>\n",
       "      <th>Meals_At_Home</th>\n",
       "      <th>total_consumption</th>\n",
       "    </tr>\n",
       "  </thead>\n",
       "  <tbody>\n",
       "    <tr>\n",
       "      <th>50405</th>\n",
       "      <td>NAG</td>\n",
       "      <td>11</td>\n",
       "      <td>URBAN</td>\n",
       "      <td>1</td>\n",
       "      <td>131</td>\n",
       "      <td>12.00</td>\n",
       "      <td>0.0</td>\n",
       "      <td>0.0</td>\n",
       "      <td>0</td>\n",
       "      <td>0.4</td>\n",
       "      <td>0.8</td>\n",
       "      <td>24.420740</td>\n",
       "      <td>30.0</td>\n",
       "      <td>60.0</td>\n",
       "      <td>67.620740</td>\n",
       "    </tr>\n",
       "    <tr>\n",
       "      <th>50406</th>\n",
       "      <td>NAG</td>\n",
       "      <td>11</td>\n",
       "      <td>URBAN</td>\n",
       "      <td>1</td>\n",
       "      <td>131</td>\n",
       "      <td>15.00</td>\n",
       "      <td>0.0</td>\n",
       "      <td>0.0</td>\n",
       "      <td>0</td>\n",
       "      <td>0.0</td>\n",
       "      <td>0.4</td>\n",
       "      <td>25.650310</td>\n",
       "      <td>40.0</td>\n",
       "      <td>60.0</td>\n",
       "      <td>81.050310</td>\n",
       "    </tr>\n",
       "    <tr>\n",
       "      <th>50407</th>\n",
       "      <td>NAG</td>\n",
       "      <td>11</td>\n",
       "      <td>URBAN</td>\n",
       "      <td>1</td>\n",
       "      <td>131</td>\n",
       "      <td>12.00</td>\n",
       "      <td>0.0</td>\n",
       "      <td>0.0</td>\n",
       "      <td>0</td>\n",
       "      <td>0.4</td>\n",
       "      <td>0.0</td>\n",
       "      <td>21.700660</td>\n",
       "      <td>20.0</td>\n",
       "      <td>60.0</td>\n",
       "      <td>54.100660</td>\n",
       "    </tr>\n",
       "    <tr>\n",
       "      <th>50408</th>\n",
       "      <td>NAG</td>\n",
       "      <td>11</td>\n",
       "      <td>URBAN</td>\n",
       "      <td>1</td>\n",
       "      <td>131</td>\n",
       "      <td>15.00</td>\n",
       "      <td>0.0</td>\n",
       "      <td>0.0</td>\n",
       "      <td>0</td>\n",
       "      <td>0.0</td>\n",
       "      <td>0.0</td>\n",
       "      <td>23.600250</td>\n",
       "      <td>40.0</td>\n",
       "      <td>60.0</td>\n",
       "      <td>78.600250</td>\n",
       "    </tr>\n",
       "    <tr>\n",
       "      <th>50409</th>\n",
       "      <td>NAG</td>\n",
       "      <td>11</td>\n",
       "      <td>URBAN</td>\n",
       "      <td>1</td>\n",
       "      <td>131</td>\n",
       "      <td>13.75</td>\n",
       "      <td>0.0</td>\n",
       "      <td>0.0</td>\n",
       "      <td>0</td>\n",
       "      <td>0.0</td>\n",
       "      <td>0.0</td>\n",
       "      <td>24.900962</td>\n",
       "      <td>25.0</td>\n",
       "      <td>60.0</td>\n",
       "      <td>63.650962</td>\n",
       "    </tr>\n",
       "  </tbody>\n",
       "</table>\n",
       "</div>"
      ],
      "text/plain": [
       "      state_1 District Sector  Region  State_Region  ricetotal_q  \\\n",
       "50405     NAG       11  URBAN       1           131        12.00   \n",
       "50406     NAG       11  URBAN       1           131        15.00   \n",
       "50407     NAG       11  URBAN       1           131        12.00   \n",
       "50408     NAG       11  URBAN       1           131        15.00   \n",
       "50409     NAG       11  URBAN       1           131        13.75   \n",
       "\n",
       "       wheattotal_q  moong_q  Milktotal_q  chicken_q  bread_q  foodtotal_q  \\\n",
       "50405           0.0      0.0            0        0.4      0.8    24.420740   \n",
       "50406           0.0      0.0            0        0.0      0.4    25.650310   \n",
       "50407           0.0      0.0            0        0.4      0.0    21.700660   \n",
       "50408           0.0      0.0            0        0.0      0.0    23.600250   \n",
       "50409           0.0      0.0            0        0.0      0.0    24.900962   \n",
       "\n",
       "       Beveragestotal_v  Meals_At_Home  total_consumption  \n",
       "50405              30.0           60.0          67.620740  \n",
       "50406              40.0           60.0          81.050310  \n",
       "50407              20.0           60.0          54.100660  \n",
       "50408              40.0           60.0          78.600250  \n",
       "50409              25.0           60.0          63.650962  "
      ]
     },
     "execution_count": 94,
     "metadata": {},
     "output_type": "execute_result"
    }
   ],
   "source": [
    "urban.head()"
   ]
  },
  {
   "cell_type": "code",
   "execution_count": 96,
   "id": "e0e5961d-ce6a-4fd2-8769-37d8a708cd69",
   "metadata": {},
   "outputs": [],
   "source": [
    "cons_rural=rural['total_consumption']\n",
    "cons_urban=urban['total_consumption']"
   ]
  },
  {
   "cell_type": "code",
   "execution_count": 98,
   "id": "e060e029-f867-49e1-a8da-1e3081c28bd8",
   "metadata": {},
   "outputs": [
    {
     "name": "stdout",
     "output_type": "stream",
     "text": [
      "Z-Score: 1.687589673040713\n",
      "P-Value: 0.09149002297319402\n"
     ]
    }
   ],
   "source": [
    "z_statistic, p_value = stests.ztest(cons_rural, cons_urban)\n",
    "# Print the z-score and p-value\n",
    "print(\"Z-Score:\", z_statistic)\n",
    "print(\"P-Value:\", p_value)"
   ]
  },
  {
   "cell_type": "code",
   "execution_count": null,
   "id": "19b67c0a-4c1f-4201-b41a-720333ab4431",
   "metadata": {},
   "outputs": [],
   "source": []
  }
 ],
 "metadata": {
  "kernelspec": {
   "display_name": "Python 3 (ipykernel)",
   "language": "python",
   "name": "python3"
  },
  "language_info": {
   "codemirror_mode": {
    "name": "ipython",
    "version": 3
   },
   "file_extension": ".py",
   "mimetype": "text/x-python",
   "name": "python",
   "nbconvert_exporter": "python",
   "pygments_lexer": "ipython3",
   "version": "3.11.5"
  }
 },
 "nbformat": 4,
 "nbformat_minor": 5
}
